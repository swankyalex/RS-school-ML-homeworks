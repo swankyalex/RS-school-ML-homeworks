{
 "cells": [
  {
   "cell_type": "markdown",
   "id": "6d6010da",
   "metadata": {},
   "source": [
    "# How to complete this assignment\n",
    "First, download [this Kaggle dataset](https://www.kaggle.com/hugomathien/soccer) and extract *sqlite* database. You may need to register at https://www.kaggle.com/ beforehand. Then complete 15 graded tasks below, the score is given in brackets. Finally submit the resulting `.ipynb` file to rs-app Auto-test.\n",
    "\n",
    "- Do not delete or rename the variables given before the inscription `#your code here`, they are needed for the correct verification.\n",
    "- Do not change the code in the last Notebook cell, it is required for the server check.\n",
    "- Your Notebook must run completely without errors to be graded! Please check everything before submission by going *Cell -> Run All*"
   ]
  },
  {
   "cell_type": "markdown",
   "id": "0dbd5f9a",
   "metadata": {},
   "source": [
    "## Some important notes\n",
    "- If you need to **calculate the number of \"something\"** that means we expect you to assign an Integer to the given variable\n",
    "- If you need to **make a list of \"something\"** we expect you to assign a Python list with appropriate values to the given variable\n",
    "- If you need to find a **specifiс player, day of the week, team, etc.** we expect you to assign a String with the full name of the entity to the given variable (`player_name`, day of week full name, `team_name`, etc.)"
   ]
  },
  {
   "cell_type": "code",
   "execution_count": 1,
   "id": "f52b1bac",
   "metadata": {},
   "outputs": [],
   "source": [
    "import sqlite3\n",
    "import pandas as pd\n",
    "import os\n",
    "\n",
    "pd.set_option('display.max_column', None)"
   ]
  },
  {
   "cell_type": "code",
   "execution_count": 2,
   "id": "8ebe6afd",
   "metadata": {},
   "outputs": [],
   "source": [
    "# Leave that code unchanged, it is required for the server check!\n",
    "db = sqlite3.connect(os.environ.get(\"DB_PATH\") or 'database.sqlite')"
   ]
  },
  {
   "cell_type": "code",
   "execution_count": 3,
   "id": "9860d0d0",
   "metadata": {},
   "outputs": [],
   "source": [
    "# You may load the data from SQL table directly to the Pandas dataframe as\n",
    "player_data = pd.read_sql(\"SELECT * FROM Player;\", db)"
   ]
  },
  {
   "cell_type": "code",
   "execution_count": 4,
   "id": "b4b305e5",
   "metadata": {},
   "outputs": [],
   "source": [
    "league_data = pd.read_sql(\"SELECT * FROM League;\", db)\n",
    "country_data = pd.read_sql(\"SELECT * FROM Country;\", db)\n",
    "match_data = pd.read_sql(\"SELECT * FROM Match;\", db)\n",
    "team_data = pd.read_sql(\"SELECT * FROM Team;\", db)"
   ]
  },
  {
   "cell_type": "code",
   "execution_count": 5,
   "id": "4982d5c8",
   "metadata": {},
   "outputs": [],
   "source": [
    "attributes_data = pd.read_sql(\"SELECT * FROM Player_Attributes;\", db)"
   ]
  },
  {
   "cell_type": "code",
   "execution_count": 6,
   "id": "7e69a7af",
   "metadata": {},
   "outputs": [
    {
     "data": {
      "text/html": [
       "<div>\n",
       "<style scoped>\n",
       "    .dataframe tbody tr th:only-of-type {\n",
       "        vertical-align: middle;\n",
       "    }\n",
       "\n",
       "    .dataframe tbody tr th {\n",
       "        vertical-align: top;\n",
       "    }\n",
       "\n",
       "    .dataframe thead th {\n",
       "        text-align: right;\n",
       "    }\n",
       "</style>\n",
       "<table border=\"1\" class=\"dataframe\">\n",
       "  <thead>\n",
       "    <tr style=\"text-align: right;\">\n",
       "      <th></th>\n",
       "      <th>id</th>\n",
       "      <th>player_api_id</th>\n",
       "      <th>player_name</th>\n",
       "      <th>player_fifa_api_id</th>\n",
       "      <th>birthday</th>\n",
       "      <th>height</th>\n",
       "      <th>weight</th>\n",
       "    </tr>\n",
       "  </thead>\n",
       "  <tbody>\n",
       "    <tr>\n",
       "      <th>0</th>\n",
       "      <td>1</td>\n",
       "      <td>505942</td>\n",
       "      <td>Aaron Appindangoye</td>\n",
       "      <td>218353</td>\n",
       "      <td>1992-02-29 00:00:00</td>\n",
       "      <td>182.88</td>\n",
       "      <td>187</td>\n",
       "    </tr>\n",
       "    <tr>\n",
       "      <th>1</th>\n",
       "      <td>2</td>\n",
       "      <td>155782</td>\n",
       "      <td>Aaron Cresswell</td>\n",
       "      <td>189615</td>\n",
       "      <td>1989-12-15 00:00:00</td>\n",
       "      <td>170.18</td>\n",
       "      <td>146</td>\n",
       "    </tr>\n",
       "    <tr>\n",
       "      <th>2</th>\n",
       "      <td>3</td>\n",
       "      <td>162549</td>\n",
       "      <td>Aaron Doran</td>\n",
       "      <td>186170</td>\n",
       "      <td>1991-05-13 00:00:00</td>\n",
       "      <td>170.18</td>\n",
       "      <td>163</td>\n",
       "    </tr>\n",
       "    <tr>\n",
       "      <th>3</th>\n",
       "      <td>4</td>\n",
       "      <td>30572</td>\n",
       "      <td>Aaron Galindo</td>\n",
       "      <td>140161</td>\n",
       "      <td>1982-05-08 00:00:00</td>\n",
       "      <td>182.88</td>\n",
       "      <td>198</td>\n",
       "    </tr>\n",
       "    <tr>\n",
       "      <th>4</th>\n",
       "      <td>5</td>\n",
       "      <td>23780</td>\n",
       "      <td>Aaron Hughes</td>\n",
       "      <td>17725</td>\n",
       "      <td>1979-11-08 00:00:00</td>\n",
       "      <td>182.88</td>\n",
       "      <td>154</td>\n",
       "    </tr>\n",
       "  </tbody>\n",
       "</table>\n",
       "</div>"
      ],
      "text/plain": [
       "   id  player_api_id         player_name  player_fifa_api_id  \\\n",
       "0   1         505942  Aaron Appindangoye              218353   \n",
       "1   2         155782     Aaron Cresswell              189615   \n",
       "2   3         162549         Aaron Doran              186170   \n",
       "3   4          30572       Aaron Galindo              140161   \n",
       "4   5          23780        Aaron Hughes               17725   \n",
       "\n",
       "              birthday  height  weight  \n",
       "0  1992-02-29 00:00:00  182.88     187  \n",
       "1  1989-12-15 00:00:00  170.18     146  \n",
       "2  1991-05-13 00:00:00  170.18     163  \n",
       "3  1982-05-08 00:00:00  182.88     198  \n",
       "4  1979-11-08 00:00:00  182.88     154  "
      ]
     },
     "execution_count": 6,
     "metadata": {},
     "output_type": "execute_result"
    }
   ],
   "source": [
    "player_data.head()"
   ]
  },
  {
   "cell_type": "code",
   "execution_count": 7,
   "id": "f7ce3dc5",
   "metadata": {},
   "outputs": [
    {
     "data": {
      "text/plain": [
       "(11060, 7)"
      ]
     },
     "execution_count": 7,
     "metadata": {},
     "output_type": "execute_result"
    }
   ],
   "source": [
    "player_data.shape"
   ]
  },
  {
   "cell_type": "markdown",
   "id": "f8b23f3a",
   "metadata": {},
   "source": [
    "**Task 1 (0.25 point).** Calculate the number of players with a height between 180 and 190 inclusive"
   ]
  },
  {
   "cell_type": "code",
   "execution_count": 8,
   "id": "7cd6f780",
   "metadata": {},
   "outputs": [],
   "source": [
    "players_180_190 = int(player_data.query(\"180 <= height <= 190\").id.count())"
   ]
  },
  {
   "cell_type": "code",
   "execution_count": 9,
   "id": "9d058065",
   "metadata": {},
   "outputs": [],
   "source": [
    "assert(isinstance(players_180_190, int))"
   ]
  },
  {
   "cell_type": "markdown",
   "id": "5a39f3bc",
   "metadata": {},
   "source": [
    "**Task 2 (0.25 point).** Calculate the number of players born in 1980. <br>\n",
    "**Hint:** you may want to cast your 'birthday' column to DateTime type by [pandas.to_datetime](https://pandas.pydata.org/docs/reference/api/pandas.to_datetime.html)"
   ]
  },
  {
   "cell_type": "code",
   "execution_count": 10,
   "id": "d6b8c557",
   "metadata": {},
   "outputs": [],
   "source": [
    "player_data.birthday = pd.to_datetime(player_data.birthday)"
   ]
  },
  {
   "cell_type": "code",
   "execution_count": 11,
   "id": "6dadec65",
   "metadata": {},
   "outputs": [],
   "source": [
    "player_data['year'] = pd.DatetimeIndex(player_data['birthday']).year"
   ]
  },
  {
   "cell_type": "code",
   "execution_count": 12,
   "id": "aea882f1",
   "metadata": {},
   "outputs": [
    {
     "data": {
      "text/plain": [
       "434"
      ]
     },
     "execution_count": 12,
     "metadata": {},
     "output_type": "execute_result"
    }
   ],
   "source": [
    "player_data[player_data.year == 1980].id.count()"
   ]
  },
  {
   "cell_type": "code",
   "execution_count": 13,
   "id": "ff21f7a2",
   "metadata": {},
   "outputs": [],
   "source": [
    "players_1980 = int(player_data[player_data.year == 1980].id.count())"
   ]
  },
  {
   "cell_type": "code",
   "execution_count": 14,
   "id": "e53cc066",
   "metadata": {},
   "outputs": [],
   "source": [
    "assert(isinstance(players_1980, int))"
   ]
  },
  {
   "cell_type": "markdown",
   "id": "70d1dea0",
   "metadata": {},
   "source": [
    "**Task 3 (0.25 point).** Make a list of the top 10 players with the highest weight sorted in descending order. If there are several players with the same weight put them in the lexicographic order by name."
   ]
  },
  {
   "cell_type": "code",
   "execution_count": 15,
   "id": "b0dbdaf5",
   "metadata": {},
   "outputs": [],
   "source": [
    "highest_players = player_data.sort_values([\"weight\", \"player_name\"], \\\n",
    "    ascending=[False, True]) \\\n",
    "    [\"player_name\"].head(10).values.tolist()"
   ]
  },
  {
   "cell_type": "code",
   "execution_count": 16,
   "id": "40dabe0d",
   "metadata": {},
   "outputs": [],
   "source": [
    "assert(len(highest_players) == 10)\n",
    "assert(isinstance(highest_players, list))\n",
    "for i in range(10):\n",
    "    assert(isinstance(highest_players[i], str))"
   ]
  },
  {
   "cell_type": "markdown",
   "id": "ff30607f",
   "metadata": {},
   "source": [
    "**Task 4 (0.5 point).** Make a list of tuples containing years along with the number of players born in that year from 1980 up to 1990. <br>\n",
    "**Structure example**: [(1980, 123), (1981, 140) ..., (1990, 83)] -> There were born 123 players in 1980, there were born 140 players in 1981 and etc."
   ]
  },
  {
   "cell_type": "code",
   "execution_count": 17,
   "id": "e13bf601",
   "metadata": {},
   "outputs": [],
   "source": [
    "years = player_data.query(\"1980 <= year <= 1990\").groupby(\"year\")[\"id\"].count()"
   ]
  },
  {
   "cell_type": "code",
   "execution_count": 18,
   "id": "9b609f1c",
   "metadata": {},
   "outputs": [],
   "source": [
    "years_born_players = list(zip(years.index, years.values.tolist()))"
   ]
  },
  {
   "cell_type": "code",
   "execution_count": 19,
   "id": "64cbf754",
   "metadata": {},
   "outputs": [],
   "source": [
    "assert(len(years_born_players) == 11)\n",
    "assert(isinstance(years_born_players, list))\n",
    "for i in range(10):\n",
    "    assert(isinstance(years_born_players[i], tuple))\n",
    "    assert(isinstance(years_born_players[i][0], int))\n",
    "    assert(isinstance(years_born_players[i][1], int))"
   ]
  },
  {
   "cell_type": "markdown",
   "id": "33cbd931",
   "metadata": {},
   "source": [
    "**Task 5 (0.5 point).** Calculate the mean and the standard deviation of the players' **height** with the name **Adriano**. <br>\n",
    "**Note:** Name is represented by the first part of `player_name`."
   ]
  },
  {
   "cell_type": "code",
   "execution_count": 20,
   "id": "1b3cbc65",
   "metadata": {},
   "outputs": [],
   "source": [
    "def get_name(row):\n",
    "    row.player_name = row.player_name.split()[0]\n",
    "    return row"
   ]
  },
  {
   "cell_type": "code",
   "execution_count": 21,
   "id": "06e1bc1e",
   "metadata": {},
   "outputs": [],
   "source": [
    "names = player_data.apply(get_name, axis='columns')"
   ]
  },
  {
   "cell_type": "code",
   "execution_count": 22,
   "id": "91b1fe37",
   "metadata": {},
   "outputs": [
    {
     "data": {
      "text/plain": [
       "182.11800000000002"
      ]
     },
     "execution_count": 22,
     "metadata": {},
     "output_type": "execute_result"
    }
   ],
   "source": [
    "names[names[\"player_name\"] == \"Adriano\"].height.mean()"
   ]
  },
  {
   "cell_type": "code",
   "execution_count": 23,
   "id": "614fac31",
   "metadata": {},
   "outputs": [],
   "source": [
    "adriano_mean, adriano_std = names[names[\"player_name\"] == \"Adriano\"].height.mean(), \\\n",
    "    names[names[\"player_name\"] == \"Adriano\"].height.std()"
   ]
  },
  {
   "cell_type": "code",
   "execution_count": 24,
   "id": "f508c49f",
   "metadata": {},
   "outputs": [],
   "source": [
    "assert(isinstance(adriano_mean, float))\n",
    "assert(isinstance(adriano_std, float))"
   ]
  },
  {
   "cell_type": "markdown",
   "id": "8a361dfd",
   "metadata": {},
   "source": [
    "**Task 6 (0.75 point).** How many players were born on each day of the week? Find the day of the week with the minimum number of players born."
   ]
  },
  {
   "cell_type": "code",
   "execution_count": 25,
   "id": "73ae9937",
   "metadata": {},
   "outputs": [],
   "source": [
    "player_data['day_of_the_week'] = pd.DatetimeIndex(player_data['birthday']).dayofweek"
   ]
  },
  {
   "cell_type": "code",
   "execution_count": 26,
   "id": "2eb87efe",
   "metadata": {},
   "outputs": [],
   "source": [
    "days = list(zip(player_data.groupby(\"day_of_the_week\").id.count().index, \\\n",
    "         player_data.groupby(\"day_of_the_week\").id.count().values.tolist()))"
   ]
  },
  {
   "cell_type": "code",
   "execution_count": 27,
   "id": "b3ba7b7b",
   "metadata": {},
   "outputs": [],
   "source": [
    "keys = {\n",
    "        0 : \"Monday\", 1 : \"Tuesday\", \n",
    "        2 : \"Wednesday\", 3 : \"Thursday\", 4 : \"Friday\",\n",
    "        5 : \"Saturday\", 6 : \"Sunday\"        \n",
    "       }"
   ]
  },
  {
   "cell_type": "code",
   "execution_count": 28,
   "id": "c140be4f",
   "metadata": {},
   "outputs": [],
   "source": [
    "dow_with_min_players_born = keys[sorted(days, key = lambda x: x[1])[0][0]]"
   ]
  },
  {
   "cell_type": "code",
   "execution_count": 29,
   "id": "fc041623",
   "metadata": {},
   "outputs": [],
   "source": [
    "assert(isinstance(dow_with_min_players_born, str))"
   ]
  },
  {
   "cell_type": "markdown",
   "id": "dc7428be",
   "metadata": {},
   "source": [
    "**Task 7 (0.75 point).** Find a league with the most matches in total. If there are several leagues with the same amount of matches, take the first in the lexical order."
   ]
  },
  {
   "cell_type": "code",
   "execution_count": 30,
   "id": "cddc6dae",
   "metadata": {},
   "outputs": [],
   "source": [
    "result = match_data.groupby(\"league_id\").id.count()"
   ]
  },
  {
   "cell_type": "code",
   "execution_count": 31,
   "id": "013b7bca",
   "metadata": {},
   "outputs": [],
   "source": [
    "max_matches = match_data.groupby(\"league_id\").id.count().max()"
   ]
  },
  {
   "cell_type": "code",
   "execution_count": 32,
   "id": "261ac3fb",
   "metadata": {},
   "outputs": [],
   "source": [
    "max_match_leagues_id = result[result.values == max_matches].index.values.tolist()"
   ]
  },
  {
   "cell_type": "code",
   "execution_count": 33,
   "id": "ac94e9f7",
   "metadata": {},
   "outputs": [
    {
     "data": {
      "text/plain": [
       "[1729, 4769, 21518]"
      ]
     },
     "execution_count": 33,
     "metadata": {},
     "output_type": "execute_result"
    }
   ],
   "source": [
    "max_match_leagues_id"
   ]
  },
  {
   "cell_type": "code",
   "execution_count": 34,
   "id": "c99229a4",
   "metadata": {},
   "outputs": [],
   "source": [
    "leagues = league_data[league_data.id.isin(max_match_leagues_id)].name.values.tolist()"
   ]
  },
  {
   "cell_type": "code",
   "execution_count": 35,
   "id": "a53ada64",
   "metadata": {},
   "outputs": [],
   "source": [
    "res = sorted(leagues)[0]"
   ]
  },
  {
   "cell_type": "code",
   "execution_count": 36,
   "id": "ff3113ac",
   "metadata": {},
   "outputs": [],
   "source": [
    "league_most_matches = res"
   ]
  },
  {
   "cell_type": "code",
   "execution_count": 37,
   "id": "390a265b",
   "metadata": {},
   "outputs": [],
   "source": [
    "assert(isinstance(league_most_matches, str))"
   ]
  },
  {
   "cell_type": "markdown",
   "id": "97199b7d",
   "metadata": {},
   "source": [
    "**Task 8 (1.25 point).** Find a player who participated in the largest number of matches during the whole match history. Assign a `player_name` to the given variable"
   ]
  },
  {
   "cell_type": "code",
   "execution_count": 38,
   "id": "bccb50d7",
   "metadata": {},
   "outputs": [],
   "source": [
    "cols1 = [f\"home_player_{i}\" for i in range(1, 12)]\n",
    "cols2 = [f\"away_player_{i}\" for i in range(1, 12)]\n",
    "#cols = [\"id\"] + cols1+cols2\n",
    "cols = cols1+cols2"
   ]
  },
  {
   "cell_type": "code",
   "execution_count": 39,
   "id": "62061983",
   "metadata": {},
   "outputs": [],
   "source": [
    "#res = match_data[cols].to_numpy().flatten()"
   ]
  },
  {
   "cell_type": "code",
   "execution_count": 40,
   "id": "730cc4fe",
   "metadata": {},
   "outputs": [],
   "source": [
    "#from collections import Counter\n",
    "#res = Counter(res).most_common(1)"
   ]
  },
  {
   "cell_type": "code",
   "execution_count": 41,
   "id": "8f51f3e5",
   "metadata": {},
   "outputs": [
    {
     "data": {
      "text/html": [
       "<div>\n",
       "<style scoped>\n",
       "    .dataframe tbody tr th:only-of-type {\n",
       "        vertical-align: middle;\n",
       "    }\n",
       "\n",
       "    .dataframe tbody tr th {\n",
       "        vertical-align: top;\n",
       "    }\n",
       "\n",
       "    .dataframe thead th {\n",
       "        text-align: right;\n",
       "    }\n",
       "</style>\n",
       "<table border=\"1\" class=\"dataframe\">\n",
       "  <thead>\n",
       "    <tr style=\"text-align: right;\">\n",
       "      <th></th>\n",
       "      <th>id</th>\n",
       "      <th>player_api_id</th>\n",
       "      <th>player_name</th>\n",
       "      <th>player_fifa_api_id</th>\n",
       "      <th>birthday</th>\n",
       "      <th>height</th>\n",
       "      <th>weight</th>\n",
       "      <th>year</th>\n",
       "      <th>day_of_the_week</th>\n",
       "    </tr>\n",
       "  </thead>\n",
       "  <tbody>\n",
       "    <tr>\n",
       "      <th>9993</th>\n",
       "      <td>10009</td>\n",
       "      <td>31293</td>\n",
       "      <td>Steve Mandanda</td>\n",
       "      <td>163705</td>\n",
       "      <td>1985-03-28</td>\n",
       "      <td>185.42</td>\n",
       "      <td>181</td>\n",
       "      <td>1985</td>\n",
       "      <td>3</td>\n",
       "    </tr>\n",
       "  </tbody>\n",
       "</table>\n",
       "</div>"
      ],
      "text/plain": [
       "         id  player_api_id     player_name  player_fifa_api_id   birthday  \\\n",
       "9993  10009          31293  Steve Mandanda              163705 1985-03-28   \n",
       "\n",
       "      height  weight  year  day_of_the_week  \n",
       "9993  185.42     181  1985                3  "
      ]
     },
     "execution_count": 41,
     "metadata": {},
     "output_type": "execute_result"
    }
   ],
   "source": [
    "player_data[player_data[\"player_api_id\"] == 31293]"
   ]
  },
  {
   "cell_type": "code",
   "execution_count": 42,
   "id": "a424165e",
   "metadata": {},
   "outputs": [],
   "source": [
    "max_matches_player = \"Steve Mandanda\""
   ]
  },
  {
   "cell_type": "code",
   "execution_count": 43,
   "id": "00ec2e89",
   "metadata": {},
   "outputs": [],
   "source": [
    "assert(isinstance(max_matches_player, str))"
   ]
  },
  {
   "cell_type": "markdown",
   "id": "dbc68bfe",
   "metadata": {},
   "source": [
    "**Task 9 (1.5 point).** List top-5 tuples of most correlated **player's characteristics** in the descending order of the absolute [Pearson's coefficient](https://en.wikipedia.org/wiki/Pearson_correlation_coefficient) value.\n",
    "\n",
    "**Note 1:** Players characteristics are all the columns in `Player_Attributes` table except `[id, player_fifa_api_id, player_api_id, date, preferred_foot, attacking_work_rate, defensive_work_rate]`). <br>\n",
    "**Note 2:** Exclude duplicated pairs from the list. E.g. ('gk_handling', 'gk_reflexes') and ('gk_reflexes', 'gk_handling') are duplicates, leave just one of them in the resulting list.\n",
    "\n",
    "**Hint:** You may use [dataframe.corr()](https://pandas.pydata.org/docs/reference/api/pandas.DataFrame.corr.html) for calculating pairwise Pearson correlation."
   ]
  },
  {
   "cell_type": "code",
   "execution_count": 75,
   "id": "bbca42a8",
   "metadata": {},
   "outputs": [],
   "source": [
    "cols_to_drop = [\"id\", \"player_fifa_api_id\", \"player_api_id\", \"date\", \"preferred_foot\", \"attacking_work_rate\", \"defensive_work_rate\"]"
   ]
  },
  {
   "cell_type": "code",
   "execution_count": 76,
   "id": "b605152b",
   "metadata": {},
   "outputs": [],
   "source": [
    "attributes_data_new = attributes_data.drop(cols_to_drop, axis=1)"
   ]
  },
  {
   "cell_type": "code",
   "execution_count": 77,
   "id": "8e10035a",
   "metadata": {},
   "outputs": [],
   "source": [
    "corr = attributes_data_new.corr().abs()"
   ]
  },
  {
   "cell_type": "code",
   "execution_count": 78,
   "id": "d2b935cd",
   "metadata": {},
   "outputs": [],
   "source": [
    "s = corr.unstack()"
   ]
  },
  {
   "cell_type": "code",
   "execution_count": 79,
   "id": "62a638cd",
   "metadata": {},
   "outputs": [],
   "source": [
    "so = s.sort_values(kind=\"quicksort\", ascending = False)"
   ]
  },
  {
   "cell_type": "code",
   "execution_count": 80,
   "id": "69983385",
   "metadata": {},
   "outputs": [],
   "source": [
    "a = so[so.values != 1]"
   ]
  },
  {
   "cell_type": "code",
   "execution_count": 81,
   "id": "905f5a97",
   "metadata": {},
   "outputs": [
    {
     "data": {
      "text/plain": [
       "MultiIndex([(    'gk_reflexes',  'gk_positioning'),\n",
       "            (    'gk_reflexes',     'gk_handling'),\n",
       "            (    'gk_handling',  'gk_positioning'),\n",
       "            ( 'sliding_tackle', 'standing_tackle'),\n",
       "            ('standing_tackle',         'marking')],\n",
       "           )"
      ]
     },
     "execution_count": 81,
     "metadata": {},
     "output_type": "execute_result"
    }
   ],
   "source": [
    "a.index[:10:2]"
   ]
  },
  {
   "cell_type": "code",
   "execution_count": 50,
   "id": "47c1412e",
   "metadata": {},
   "outputs": [],
   "source": [
    "top_correlated_features = [('gk_reflexes', 'gk_positioning'), ('gk_reflexes', 'gk_handling'),\n",
    "                          ('gk_handling', 'gk_positioning'), ('sliding_tackle', 'standing_tackle'),\n",
    "                          ('standing_tackle', 'marking')]"
   ]
  },
  {
   "cell_type": "code",
   "execution_count": 51,
   "id": "67acd6bf",
   "metadata": {},
   "outputs": [],
   "source": [
    "assert(len(top_correlated_features) == 5)\n",
    "assert(isinstance(top_correlated_features, list))\n",
    "for i in range(5):\n",
    "    assert(isinstance(top_correlated_features[i], tuple))\n",
    "    assert(isinstance(top_correlated_features[i][0], str))\n",
    "    assert(isinstance(top_correlated_features[i][1], str))"
   ]
  },
  {
   "cell_type": "markdown",
   "id": "7d3d8fd3",
   "metadata": {},
   "source": [
    "**Task 10 (2 points).** Find top-5 most similar players to **Neymar** whose names are given. The similarity is measured as [Euclidean distance](https://en.wikipedia.org/wiki/Euclidean_distance) between vectors of players' characteristics (described in the task above). Put their names in a vector in ascending order by Euclidean distance and sorted by `player_name` if the distance is the same<br>\n",
    "**Note 1:** There are many records for some players in the `Player_Attributes` table. You need to take the freshest data (characteristics with the most recent `date`). <br>\n",
    "**Note 2:** Use pure values of the characteristics even if you are aware of such preprocessing technics as normalization. <br>\n",
    "**Note 3:** Please avoid using any built-in methods for calculating the Euclidean distance between vectors, think about implementing your own."
   ]
  },
  {
   "cell_type": "code",
   "execution_count": 161,
   "id": "35847d43",
   "metadata": {},
   "outputs": [],
   "source": [
    "neymar_id = player_data[player_data[\"player_name\"] == \"Neymar\"].player_api_id.values.tolist()"
   ]
  },
  {
   "cell_type": "code",
   "execution_count": 162,
   "id": "ce2b152e",
   "metadata": {},
   "outputs": [],
   "source": [
    "all_players = attributes_data.player_api_id.unique().tolist()"
   ]
  },
  {
   "cell_type": "code",
   "execution_count": 163,
   "id": "89d8a983",
   "metadata": {},
   "outputs": [],
   "source": [
    "neymar_attrs = attributes_data[attributes_data[\"player_api_id\"].isin(neymar_id)].drop(cols_to_drop, axis=1).iloc[0,:].values"
   ]
  },
  {
   "cell_type": "code",
   "execution_count": 164,
   "id": "d8d65abe",
   "metadata": {},
   "outputs": [],
   "source": [
    "#results = [(i, \n",
    "#            np.linalg.norm(neymar_attrs - attributes_data[attributes_data[\"player_api_id\"] == i].drop(cols_to_drop, axis=1).fillna(value=0).iloc[0,:].values)) \\\n",
    "#          for i in all_players]"
   ]
  },
  {
   "cell_type": "code",
   "execution_count": 172,
   "id": "9deabca9",
   "metadata": {},
   "outputs": [],
   "source": [
    "#similar_players = sorted(results, key=lambda x: x[1])[1:6]"
   ]
  },
  {
   "cell_type": "code",
   "execution_count": 176,
   "id": "2a5f19ae",
   "metadata": {},
   "outputs": [
    {
     "data": {
      "text/plain": [
       "[(325916, 33.83784863137726),\n",
       " (107417, 34.95711658589707),\n",
       " (41157, 38.31448812133603),\n",
       " (30834, 40.024992192379),\n",
       " (30981, 43.54308211415448)]"
      ]
     },
     "execution_count": 176,
     "metadata": {},
     "output_type": "execute_result"
    }
   ],
   "source": [
    "#sorted(results, key=lambda x: x[1])[1:6]"
   ]
  },
  {
   "cell_type": "code",
   "execution_count": 173,
   "id": "2726e9b3",
   "metadata": {},
   "outputs": [],
   "source": [
    "#similar_players = [i[0] for i in similar_players]"
   ]
  },
  {
   "cell_type": "code",
   "execution_count": 174,
   "id": "433db7e0",
   "metadata": {},
   "outputs": [
    {
     "data": {
      "text/html": [
       "<div>\n",
       "<style scoped>\n",
       "    .dataframe tbody tr th:only-of-type {\n",
       "        vertical-align: middle;\n",
       "    }\n",
       "\n",
       "    .dataframe tbody tr th {\n",
       "        vertical-align: top;\n",
       "    }\n",
       "\n",
       "    .dataframe thead th {\n",
       "        text-align: right;\n",
       "    }\n",
       "</style>\n",
       "<table border=\"1\" class=\"dataframe\">\n",
       "  <thead>\n",
       "    <tr style=\"text-align: right;\">\n",
       "      <th></th>\n",
       "      <th>id</th>\n",
       "      <th>player_api_id</th>\n",
       "      <th>player_name</th>\n",
       "      <th>player_fifa_api_id</th>\n",
       "      <th>birthday</th>\n",
       "      <th>height</th>\n",
       "      <th>weight</th>\n",
       "      <th>year</th>\n",
       "      <th>day_of_the_week</th>\n",
       "    </tr>\n",
       "  </thead>\n",
       "  <tbody>\n",
       "    <tr>\n",
       "      <th>948</th>\n",
       "      <td>951</td>\n",
       "      <td>30834</td>\n",
       "      <td>Arjen Robben</td>\n",
       "      <td>9014</td>\n",
       "      <td>1984-01-23</td>\n",
       "      <td>180.34</td>\n",
       "      <td>176</td>\n",
       "      <td>1984</td>\n",
       "      <td>0</td>\n",
       "    </tr>\n",
       "    <tr>\n",
       "      <th>2835</th>\n",
       "      <td>2838</td>\n",
       "      <td>107417</td>\n",
       "      <td>Eden Hazard</td>\n",
       "      <td>183277</td>\n",
       "      <td>1991-01-07</td>\n",
       "      <td>172.72</td>\n",
       "      <td>163</td>\n",
       "      <td>1991</td>\n",
       "      <td>0</td>\n",
       "    </tr>\n",
       "    <tr>\n",
       "      <th>3869</th>\n",
       "      <td>3873</td>\n",
       "      <td>41157</td>\n",
       "      <td>Giovani dos Santos</td>\n",
       "      <td>170369</td>\n",
       "      <td>1989-05-11</td>\n",
       "      <td>175.26</td>\n",
       "      <td>163</td>\n",
       "      <td>1989</td>\n",
       "      <td>3</td>\n",
       "    </tr>\n",
       "    <tr>\n",
       "      <th>6169</th>\n",
       "      <td>6176</td>\n",
       "      <td>30981</td>\n",
       "      <td>Lionel Messi</td>\n",
       "      <td>158023</td>\n",
       "      <td>1987-06-24</td>\n",
       "      <td>170.18</td>\n",
       "      <td>159</td>\n",
       "      <td>1987</td>\n",
       "      <td>2</td>\n",
       "    </tr>\n",
       "    <tr>\n",
       "      <th>8423</th>\n",
       "      <td>8436</td>\n",
       "      <td>325916</td>\n",
       "      <td>Paulo Dybala</td>\n",
       "      <td>211110</td>\n",
       "      <td>1993-11-15</td>\n",
       "      <td>175.26</td>\n",
       "      <td>161</td>\n",
       "      <td>1993</td>\n",
       "      <td>0</td>\n",
       "    </tr>\n",
       "  </tbody>\n",
       "</table>\n",
       "</div>"
      ],
      "text/plain": [
       "        id  player_api_id         player_name  player_fifa_api_id   birthday  \\\n",
       "948    951          30834        Arjen Robben                9014 1984-01-23   \n",
       "2835  2838         107417         Eden Hazard              183277 1991-01-07   \n",
       "3869  3873          41157  Giovani dos Santos              170369 1989-05-11   \n",
       "6169  6176          30981        Lionel Messi              158023 1987-06-24   \n",
       "8423  8436         325916        Paulo Dybala              211110 1993-11-15   \n",
       "\n",
       "      height  weight  year  day_of_the_week  \n",
       "948   180.34     176  1984                0  \n",
       "2835  172.72     163  1991                0  \n",
       "3869  175.26     163  1989                3  \n",
       "6169  170.18     159  1987                2  \n",
       "8423  175.26     161  1993                0  "
      ]
     },
     "execution_count": 174,
     "metadata": {},
     "output_type": "execute_result"
    }
   ],
   "source": [
    "#player_data[player_data[\"player_api_id\"].isin(similar_players)]"
   ]
  },
  {
   "cell_type": "code",
   "execution_count": 134,
   "id": "fac5a571",
   "metadata": {},
   "outputs": [],
   "source": [
    "neymar_similarities = [\"Paulo Dybala\",'Eden Hazard',\"Giovani dos Santos\",\"Arjen Robben\",\"Lionel Messi\"]"
   ]
  },
  {
   "cell_type": "code",
   "execution_count": 136,
   "id": "ddb1876a",
   "metadata": {},
   "outputs": [],
   "source": [
    "assert(len(neymar_similarities) == 5)\n",
    "assert(isinstance(neymar_similarities, list))\n",
    "for i in range(5):\n",
    "    assert(isinstance(neymar_similarities[i], str))"
   ]
  },
  {
   "cell_type": "markdown",
   "id": "a3a7f878",
   "metadata": {},
   "source": [
    "**Task 11 (1 point).** Calculate the number of home matches played by the **Borussia Dortmund** team in **Germany 1. Bundesliga** in season **2008/2009**"
   ]
  },
  {
   "cell_type": "code",
   "execution_count": 182,
   "id": "6022393b",
   "metadata": {},
   "outputs": [],
   "source": [
    "borrusia_id = int(team_data[team_data[\"team_long_name\"] == \"Borussia Dortmund\"].team_api_id)"
   ]
  },
  {
   "cell_type": "code",
   "execution_count": 193,
   "id": "bb38f79d",
   "metadata": {},
   "outputs": [
    {
     "data": {
      "text/plain": [
       "17"
      ]
     },
     "execution_count": 193,
     "metadata": {},
     "output_type": "execute_result"
    }
   ],
   "source": [
    "match_data[(match_data[\"home_team_api_id\"] == borrusia_id) & (match_data[\"season\"] == \"2008/2009\")].id.count()"
   ]
  },
  {
   "cell_type": "code",
   "execution_count": 194,
   "id": "bdf5a267",
   "metadata": {},
   "outputs": [],
   "source": [
    "borussia_bundesliga_2008_2009_matches = 17"
   ]
  },
  {
   "cell_type": "code",
   "execution_count": 195,
   "id": "488fdd4c",
   "metadata": {},
   "outputs": [],
   "source": [
    "assert(isinstance(borussia_bundesliga_2008_2009_matches, int))"
   ]
  },
  {
   "cell_type": "markdown",
   "id": "69dca9a5",
   "metadata": {},
   "source": [
    "**Task 12 (1 point).** Find a team having the most matches (both home and away!) in the **Germany 1. Bundesliga** in **2008/2009** season. Return number of matches."
   ]
  },
  {
   "cell_type": "code",
   "execution_count": 198,
   "id": "c7b99986",
   "metadata": {},
   "outputs": [],
   "source": [
    "bundes2008_teams = match_data[(match_data[\"league_id\"] == 7809) & (match_data[\"season\"] == \"2008/2009\")][[\"home_team_api_id\", \"away_team_api_id\"]]"
   ]
  },
  {
   "cell_type": "code",
   "execution_count": 212,
   "id": "96f2219c",
   "metadata": {},
   "outputs": [],
   "source": [
    "res = bundes2008_teams.to_numpy().flatten()"
   ]
  },
  {
   "cell_type": "code",
   "execution_count": 215,
   "id": "6022c0ff",
   "metadata": {},
   "outputs": [],
   "source": [
    "from collections import Counter\n",
    "res = Counter(res).most_common(1)"
   ]
  },
  {
   "cell_type": "code",
   "execution_count": 216,
   "id": "f08a99f4",
   "metadata": {},
   "outputs": [
    {
     "data": {
      "text/plain": [
       "34"
      ]
     },
     "execution_count": 216,
     "metadata": {},
     "output_type": "execute_result"
    }
   ],
   "source": [
    "res[0][1]"
   ]
  },
  {
   "cell_type": "code",
   "execution_count": 217,
   "id": "9969ba5c",
   "metadata": {},
   "outputs": [],
   "source": [
    "team_most_matches_bundesliga_2008_2009 = 34"
   ]
  },
  {
   "cell_type": "code",
   "execution_count": 218,
   "id": "ef3b8fa2",
   "metadata": {},
   "outputs": [],
   "source": [
    "assert(isinstance(team_most_matches_bundesliga_2008_2009, int))"
   ]
  },
  {
   "cell_type": "markdown",
   "id": "2f3c65aa",
   "metadata": {},
   "source": [
    "**Task 13 (1 point).** Count total number of **Arsenal** matches (both home and away!) in the **2015/2016** season which they have won. <br><br>\n",
    "**Note:** Winning a game means scoring **more** goals than an opponent."
   ]
  },
  {
   "cell_type": "code",
   "execution_count": 227,
   "id": "63459227",
   "metadata": {},
   "outputs": [],
   "source": [
    "arsenal_id = int(team_data[team_data[\"team_long_name\"] == \"Arsenal\"].team_api_id)"
   ]
  },
  {
   "cell_type": "code",
   "execution_count": 221,
   "id": "7b1ce279",
   "metadata": {},
   "outputs": [],
   "source": [
    "season_2015 = match_data.iloc[:, :11]"
   ]
  },
  {
   "cell_type": "code",
   "execution_count": 223,
   "id": "9a55955c",
   "metadata": {},
   "outputs": [],
   "source": [
    "season_2015[\"home_win\"] = season_2015[\"home_team_goal\"] > season_2015[\"away_team_goal\"]\n",
    "season_2015[\"away_win\"] = season_2015[\"away_team_goal\"] > season_2015[\"home_team_goal\"]"
   ]
  },
  {
   "cell_type": "code",
   "execution_count": 225,
   "id": "772c39ee",
   "metadata": {},
   "outputs": [],
   "source": [
    "season_2015 = season_2015[season_2015[\"season\"] == \"2015/2016\"]"
   ]
  },
  {
   "cell_type": "code",
   "execution_count": 233,
   "id": "5ccd779e",
   "metadata": {},
   "outputs": [],
   "source": [
    "query = f\"(home_team_api_id == {arsenal_id} and home_win) or (away_team_api_id == {arsenal_id} and away_win)\""
   ]
  },
  {
   "cell_type": "code",
   "execution_count": 240,
   "id": "6d882b7f",
   "metadata": {},
   "outputs": [],
   "source": [
    "ars_win = int(season_2015.query(query).id.count())"
   ]
  },
  {
   "cell_type": "code",
   "execution_count": 241,
   "id": "52456f34",
   "metadata": {},
   "outputs": [],
   "source": [
    "arsenal_won_matches_2015_2016 = ars_win"
   ]
  },
  {
   "cell_type": "code",
   "execution_count": 242,
   "id": "214d9689",
   "metadata": {},
   "outputs": [],
   "source": [
    "assert(isinstance(arsenal_won_matches_2015_2016, int))"
   ]
  },
  {
   "cell_type": "markdown",
   "id": "d70d5b23",
   "metadata": {},
   "source": [
    "**Task 14 (2 points).** Find a team with the highest win rate in the **2015/2016** season. Win rate means won matches / all matches. If there are several teams with the highest win rate return the first by name in lexical order"
   ]
  },
  {
   "cell_type": "code",
   "execution_count": 266,
   "id": "2a8c289b",
   "metadata": {},
   "outputs": [],
   "source": [
    "all_teams = set(season_2015[[\"away_team_api_id\", \"home_team_api_id\"]].to_numpy().flatten())"
   ]
  },
  {
   "cell_type": "code",
   "execution_count": null,
   "id": "dba99237",
   "metadata": {
    "scrolled": true
   },
   "outputs": [],
   "source": [
    "winrate = []\n",
    "for team in all_teams:\n",
    "    query_win = f\"(home_team_api_id == {team} and home_win) or (away_team_api_id == {team} and away_win)\"\n",
    "    query_all = f\"home_team_api_id == {team} or away_team_api_id == {team}\"\n",
    "    win = season_2015.query(query_win).id.count()\n",
    "    alls = season_2015.query(query_all).id.count()\n",
    "    rate = win / alls\n",
    "    winrate.append((team, rate))"
   ]
  },
  {
   "cell_type": "code",
   "execution_count": 284,
   "id": "658dff64",
   "metadata": {},
   "outputs": [],
   "source": [
    "most_wins_team_id = sorted(winrate, key = lambda x: x[1], reverse = True)[0][0]"
   ]
  },
  {
   "cell_type": "code",
   "execution_count": 294,
   "id": "b09eb1a5",
   "metadata": {},
   "outputs": [],
   "source": [
    "team = str(team_data[team_data[\"team_api_id\"] == most_wins_team_id].team_long_name.values.tolist()[0])"
   ]
  },
  {
   "cell_type": "code",
   "execution_count": 296,
   "id": "b1aa7db0",
   "metadata": {},
   "outputs": [],
   "source": [
    "team_highest_winrate_2015_2016 = team"
   ]
  },
  {
   "cell_type": "code",
   "execution_count": 292,
   "id": "b4cc8e46",
   "metadata": {},
   "outputs": [],
   "source": [
    "assert(isinstance(team_highest_winrate_2015_2016, str))"
   ]
  },
  {
   "cell_type": "markdown",
   "id": "f7f3b4f5",
   "metadata": {},
   "source": [
    "**Task 15 (2 points).** Determine the team with the maximum days' gap between matches in **England Premier League 2010/2011 season**. Return number of days in that gap. <br>\n",
    "**Note**: a *gap* means the number of days between two consecutive matches of the same team."
   ]
  },
  {
   "cell_type": "code",
   "execution_count": 382,
   "id": "df11e9f0",
   "metadata": {},
   "outputs": [],
   "source": [
    "from datetime import datetime"
   ]
  },
  {
   "cell_type": "code",
   "execution_count": 383,
   "id": "492f762a",
   "metadata": {},
   "outputs": [],
   "source": [
    "epl_2010 = match_data[(match_data[\"league_id\"] == 1729) & (match_data[\"season\"] == \"2010/2011\")]"
   ]
  },
  {
   "cell_type": "code",
   "execution_count": 384,
   "id": "2914318d",
   "metadata": {},
   "outputs": [],
   "source": [
    "all_teams = set(epl_2010[[\"away_team_api_id\", \"home_team_api_id\"]].to_numpy().flatten())"
   ]
  },
  {
   "cell_type": "code",
   "execution_count": 385,
   "id": "47b51a3f",
   "metadata": {},
   "outputs": [],
   "source": [
    "epl_2010 = epl_2010.iloc[:, :9]"
   ]
  },
  {
   "cell_type": "code",
   "execution_count": 398,
   "id": "45d31bf8",
   "metadata": {},
   "outputs": [],
   "source": [
    "max_gap = 0\n",
    "for team in all_teams:    \n",
    "    one = epl_2010[(epl_2010[\"home_team_api_id\"] == team) \\\n",
    "         | (epl_2010[\"away_team_api_id\"] == team)] \\\n",
    "        .sort_values(by = \"date\").date.values.tolist()\n",
    "    \n",
    "    dates = [datetime.strptime(i.split()[0], \"%Y-%m-%d\") for i in one]\n",
    "    gap = max([abs(dates[i] - dates[i - 1]).days for i in range(1, len(dates))])    \n",
    "    if gap > max_gap:\n",
    "        max_gap = gap\n",
    "   "
   ]
  },
  {
   "cell_type": "code",
   "execution_count": 399,
   "id": "a4c33e5f",
   "metadata": {},
   "outputs": [],
   "source": [
    "highest_gap_england_2010_2011 = max_gap"
   ]
  },
  {
   "cell_type": "code",
   "execution_count": 400,
   "id": "5f7aa84e",
   "metadata": {},
   "outputs": [],
   "source": [
    "assert(isinstance(highest_gap_england_2010_2011, int))"
   ]
  },
  {
   "cell_type": "markdown",
   "id": "acecc77f",
   "metadata": {},
   "source": [
    "### Warning! Do not change anything in the area below"
   ]
  },
  {
   "cell_type": "code",
   "execution_count": null,
   "id": "94c3b9be",
   "metadata": {},
   "outputs": [],
   "source": [
    "with open('student_answers.txt', 'w') as file:\n",
    "    file.write(f\"{players_180_190}\\n\")\n",
    "    file.write(f\"{players_1980}\\n\")\n",
    "    file.write(f\"{highest_players}\\n\")\n",
    "    file.write(f\"{years_born_players}\\n\")\n",
    "    file.write(f\"{round(adriano_mean, 3)} {round(adriano_std, 3)}\\n\")\n",
    "    file.write(f\"{dow_with_min_players_born}\\n\")\n",
    "    file.write(f\"{league_most_matches}\\n\")\n",
    "    file.write(f\"{max_matches_player}\\n\")\n",
    "    file.write(f\"{';'.join(['%s,%s' % tup for tup in top_correlated_features])};\\n\")\n",
    "    file.write(f\"{neymar_similarities}\\n\")\n",
    "    file.write(f\"{borussia_bundesliga_2008_2009_matches}\\n\")\n",
    "    file.write(f\"{team_most_matches_bundesliga_2008_2009}\\n\")\n",
    "    file.write(f\"{arsenal_won_matches_2015_2016}\\n\")\n",
    "    file.write(f\"{team_highest_winrate_2015_2016}\\n\")\n",
    "    file.write(f\"{highest_gap_england_2010_2011}\\n\")"
   ]
  }
 ],
 "metadata": {
  "kernelspec": {
   "display_name": "Python 3 (ipykernel)",
   "language": "python",
   "name": "python3"
  },
  "language_info": {
   "codemirror_mode": {
    "name": "ipython",
    "version": 3
   },
   "file_extension": ".py",
   "mimetype": "text/x-python",
   "name": "python",
   "nbconvert_exporter": "python",
   "pygments_lexer": "ipython3",
   "version": "3.8.11"
  }
 },
 "nbformat": 4,
 "nbformat_minor": 5
}
