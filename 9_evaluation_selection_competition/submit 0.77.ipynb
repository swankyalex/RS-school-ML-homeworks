{
 "cells": [
  {
   "cell_type": "code",
   "execution_count": 12,
   "id": "6e2c4236",
   "metadata": {},
   "outputs": [],
   "source": [
    "import pandas as pd\n",
    "from sklearn.ensemble import ExtraTreesClassifier"
   ]
  },
  {
   "cell_type": "code",
   "execution_count": 13,
   "id": "3a1cc98e",
   "metadata": {},
   "outputs": [],
   "source": [
    "train_data = pd.read_csv(\"train.csv\", index_col=\"Id\")\n",
    "X_test = pd.read_csv(\"test.csv\", index_col=\"Id\")\n",
    "X_train = train_data.iloc[:, :-1]\n",
    "y_train = train_data.iloc[:, -1]"
   ]
  },
  {
   "cell_type": "code",
   "execution_count": 14,
   "id": "85626225",
   "metadata": {},
   "outputs": [],
   "source": [
    "X_train['Water Elevation'] = X_train['Elevation'] - X_train['Vertical_Distance_To_Hydrology']  \n",
    "X_test['Water Elevation'] = X_test['Elevation'] - X_test['Vertical_Distance_To_Hydrology']  "
   ]
  },
  {
   "cell_type": "code",
   "execution_count": 15,
   "id": "4f7307d6",
   "metadata": {},
   "outputs": [],
   "source": [
    "clf = ExtraTreesClassifier(n_estimators=500, random_state=42, n_jobs=-1, criterion=\"entropy\")\n",
    "clf.fit(X_train, y_train)\n",
    "predictions = clf.predict(X_test)\n",
    "submit = pd.DataFrame(data={\"Id\": X_test.index, \"Cover_Type\": predictions})\n",
    "submit.to_csv(\"submission.csv\", index=False)"
   ]
  },
  {
   "attachments": {},
   "cell_type": "markdown",
   "id": "930b3b44",
   "metadata": {},
   "source": [
    "![score](https://i.ibb.co/DQD69Jg/0-77.png)"
   ]
  }
 ],
 "metadata": {
  "kernelspec": {
   "display_name": "Python 3 (ipykernel)",
   "language": "python",
   "name": "python3"
  },
  "language_info": {
   "codemirror_mode": {
    "name": "ipython",
    "version": 3
   },
   "file_extension": ".py",
   "mimetype": "text/x-python",
   "name": "python",
   "nbconvert_exporter": "python",
   "pygments_lexer": "ipython3",
   "version": "3.8.11"
  }
 },
 "nbformat": 4,
 "nbformat_minor": 5
}
